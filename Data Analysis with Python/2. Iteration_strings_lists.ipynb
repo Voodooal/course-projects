{
 "cells": [
  {
   "cell_type": "markdown",
   "metadata": {},
   "source": [
    "# Stats701 Homework 2, Winter 2018\n",
    "### Mengyi Yuan\n",
    "#### wendymy@umich.edu"
   ]
  },
  {
   "cell_type": "markdown",
   "metadata": {},
   "source": [
    "### Problem 1: Fun with Strings\n",
    "Problem 1 took me 15 minutes."
   ]
  },
  {
   "cell_type": "code",
   "execution_count": 2,
   "metadata": {},
   "outputs": [],
   "source": [
    "# 1.1\n",
    "def is_palindrome(s):\n",
    "    s_list = [c for c in s.lower() if c != \" \"]\n",
    "    s_list_rev = s_list[::-1]\n",
    "    for i in range(len(s_list)):\n",
    "        if s_list[i] != s_list_rev[i]:\n",
    "            return False\n",
    "    return True    "
   ]
  },
  {
   "cell_type": "code",
   "execution_count": 1,
   "metadata": {},
   "outputs": [],
   "source": [
    "# 1.2\n",
    "def is_abecedarian(s):\n",
    "    s_list = [c for c in s.lower() if c != \" \"]\n",
    "    for i in range(len(s_list) - 1):\n",
    "        if s_list[i] > s_list[i + 1]:\n",
    "            return False\n",
    "    return True"
   ]
  },
  {
   "cell_type": "code",
   "execution_count": 6,
   "metadata": {},
   "outputs": [],
   "source": [
    "# 1.3 \n",
    "def count_vowels(s):\n",
    "    vowel = [c for c in s if c in [\"a\",\"e\",\"i\",\"o\",\"u\"]]\n",
    "    return len(vowel)"
   ]
  },
  {
   "cell_type": "markdown",
   "metadata": {},
   "source": [
    "### Problem 2: Fun with Lists\n",
    "Problem 2 took me 20 minutes."
   ]
  },
  {
   "cell_type": "code",
   "execution_count": 11,
   "metadata": {},
   "outputs": [],
   "source": [
    "# 2.1\n",
    "def list_reverse(lst):\n",
    "    if type(lst) != list:\n",
    "        raise TypeError\n",
    "    return lst[::-1]"
   ]
  },
  {
   "cell_type": "code",
   "execution_count": 13,
   "metadata": {},
   "outputs": [],
   "source": [
    "# 2.2\n",
    "def binary_search(t, elmt):\n",
    "    n = len(t)\n",
    "    if n == 0:\n",
    "        return False\n",
    "    if n == 1:\n",
    "        if t[0] == elmt:\n",
    "            return True\n",
    "        else:\n",
    "            return False\n",
    "    if n >= 2:\n",
    "        if elmt == t[n // 2]:\n",
    "            return True\n",
    "        elif elmt < t[n // 2]:\n",
    "            return binary_search(t[: (n // 2)], elmt)\n",
    "        else:\n",
    "            return binary_search(t[((n // 2) + 1):], elmt)\n"
   ]
  },
  {
   "cell_type": "markdown",
   "metadata": {},
   "source": [
    "### Problem 3: More Fun with Strings\n",
    "Problem 3 took me 20 minutes."
   ]
  },
  {
   "cell_type": "code",
   "execution_count": 20,
   "metadata": {},
   "outputs": [],
   "source": [
    "# 3.1\n",
    "def char_hist(s):\n",
    "    char_dict = dict()\n",
    "    for char in s.lower():\n",
    "        char_dict[char] = char_dict.get(char, 0) + 1\n",
    "       \n",
    "    return char_dict"
   ]
  },
  {
   "cell_type": "code",
   "execution_count": 22,
   "metadata": {},
   "outputs": [],
   "source": [
    "# 3.2\n",
    "def bigram_hist(s):\n",
    "    s = s.lower()\n",
    "    char_dict = dict()\n",
    "    for i in range(len(s)-1):\n",
    "        key_tuple = (s[i], s[i+1])\n",
    "        char_dict[key_tuple] = char_dict.get(key_tuple, 0) + 1\n",
    "    return char_dict"
   ]
  },
  {
   "cell_type": "markdown",
   "metadata": {},
   "source": [
    "### Problem 4: Tuples as Vectors\n",
    "Problem 4 took me 1 hour. "
   ]
  },
  {
   "cell_type": "code",
   "execution_count": 24,
   "metadata": {},
   "outputs": [],
   "source": [
    "# 4.1\n",
    "def tuple_check(t):\n",
    "    if not isinstance(t, tuple):\n",
    "        raise TypeError(\"The argument should be a tuple of numbers.\")\n",
    "    for item in t:\n",
    "        if not (isinstance(item, float) or isinstance(item, int)):\n",
    "            raise TypeError(\"The tuple should only include integers or floats.\")\n",
    "        \n",
    "\n",
    "def vec_scalar_mult(t, s):\n",
    "    tuple_check(t)\n",
    "    if not (isinstance(s, float) or isinstance(s, int)):\n",
    "        raise TypeError(\"The input number should be an integer or float.\")\n",
    "\n",
    "    return tuple([i*s for i in t])\n",
    "    "
   ]
  },
  {
   "cell_type": "code",
   "execution_count": 29,
   "metadata": {},
   "outputs": [],
   "source": [
    "# 4.2\n",
    "def vec_inner_product(t1, t2):\n",
    "    tuple_check(t1)\n",
    "    tuple_check(t2)\n",
    "    if len(t1) != len(t2):\n",
    "        raise ValueError(\"The two vectors should have the same length.\")\n",
    "    inner_product = 0\n",
    "    for (a, b) in zip(t1, t2):\n",
    "        inner_product = inner_product + a * b\n",
    "    return inner_product"
   ]
  },
  {
   "cell_type": "code",
   "execution_count": 27,
   "metadata": {},
   "outputs": [],
   "source": [
    "# 4.3\n",
    "def check_valid_mx(my_mx):\n",
    "    if not isinstance(my_mx, tuple):\n",
    "        return False\n",
    "    for i in range(len(my_mx)-1):\n",
    "        if not isinstance(my_mx[i], tuple):\n",
    "            return False\n",
    "        if len(my_mx[i]) != len(my_mx[i+1]):\n",
    "            return False\n",
    "        for item in my_mx[i]:\n",
    "            if not (isinstance(item, float) or isinstance(item, int)):\n",
    "                return False\n",
    "    return True"
   ]
  },
  {
   "cell_type": "code",
   "execution_count": 33,
   "metadata": {},
   "outputs": [],
   "source": [
    "# 4.4\n",
    "def mx_vec_mult(mx, t):\n",
    "    if not check_valid_mx(mx):\n",
    "        raise TypeError(\"The first argument is not a matrix!\")\n",
    "    tuple_check(t)\n",
    "    if len(mx[0]) != len(t):\n",
    "        raise ValueError(\"The length of the element in matrix should equal to the length of the vector.\")\n",
    "    \n",
    "    product = tuple([vec_inner_product(item, t) for item in mx])\n",
    "        \n",
    "    return product"
   ]
  }
 ],
 "metadata": {
  "kernelspec": {
   "display_name": "Python 3",
   "language": "python",
   "name": "python3"
  },
  "language_info": {
   "codemirror_mode": {
    "name": "ipython",
    "version": 3
   },
   "file_extension": ".py",
   "mimetype": "text/x-python",
   "name": "python",
   "nbconvert_exporter": "python",
   "pygments_lexer": "ipython3",
   "version": "3.6.4"
  }
 },
 "nbformat": 4,
 "nbformat_minor": 2
}
