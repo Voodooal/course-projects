{
 "cells": [
  {
   "cell_type": "markdown",
   "metadata": {},
   "source": [
    "# Stats701 Homework 4, Winter 2018\n",
    "### Mengyi Yuan\n",
    "#### wendymy@umich.edu"
   ]
  },
  {
   "cell_type": "markdown",
   "metadata": {},
   "source": [
    "### Problem 1: Still More Fun with Vectors\n",
    "Problem 1 took me 2 hours."
   ]
  },
  {
   "cell_type": "code",
   "execution_count": null,
   "metadata": {},
   "outputs": [],
   "source": [
    "# 1.1\n",
    "class Vector:\n",
    "    def __init__(self, dimension=0, entries=[]):\n",
    "        if not (isinstance(dimension,int) and dimension>=0): \n",
    "            raise TypeError(\"The dimension should be a non-negative integer.\")\n",
    "        if not isinstance(entries, list): raise TypeError(\"Entries should be a list.\")\n",
    "         \n",
    "        if len(entries) == 0:\n",
    "            self.dim = dimension\n",
    "            self.entries = [0] * dimension\n",
    "        elif dimension == len(entries):\n",
    "            self.dim = dimension\n",
    "            self.entries = entries\n",
    "        else:\n",
    "            raise ValueError(\"Dimension should equal to the length of the entries.\")\n",
    "    \n",
    "    def __repr__(self):\n",
    "        return(str(self.entries))\n",
    "    \n",
    "    # 1.4\n",
    "    def dot(self, given):\n",
    "        if isinstance(given, Vector) and (self.dim == given.dim):\n",
    "            return sum(i * j for i,j in zip(self.entries, given.entries))\n",
    "        else:\n",
    "            raise TypeError(\"Invalid type.\")\n",
    "    \n",
    "    # 1.5\n",
    "    def __mul__(self, given):\n",
    "        if isinstance(given, int) or isinstance(given, float):\n",
    "            new = [i * given for i in self.entries]\n",
    "            return Vector(len(new), new)\n",
    "        \n",
    "        if isinstance(given, Vector):\n",
    "            if self.dim == given.dim:\n",
    "                new = [i*j for i,j in zip(self.entries, given.entries)]\n",
    "            else: \n",
    "                raise ValueError(\"The dimension of two vectors should match.\")\n",
    "            return Vector(len(new), new)\n",
    "        else:\n",
    "            raise TypeError(\"Invalid Type\")\n",
    "    \n",
    "    def __rmul__(self, given):\n",
    "        return self.__mul__(given)\n",
    "    \n",
    "    # 1.6\n",
    "    def norm(self, p):\n",
    "        if not(isinstance(p, int) or isinstance(p, float)): raise TypeError(\"p should be an integer or a float.\")\n",
    "        if p < 0:\n",
    "            raise ValueError(\"p should be non-negative.\")\n",
    "        elif p == 0:\n",
    "            return sum([1 for i in self.entries if i != 0])\n",
    "        elif p < float('inf'):\n",
    "            total = sum([abs(i)**p for i in self.entries])\n",
    "            return total**(1/p)\n",
    "        else:\n",
    "            return max([abs(i) for i in self.entries])"
   ]
  },
  {
   "cell_type": "markdown",
   "metadata": {},
   "source": [
    "1.2\n",
    "I make the vector's entries to be a list. I think list is a better choice because list is mutable while tuple is immutable. For a Vector object, it is common that we want to modify it and making it a list will make the modification more convenient. "
   ]
  },
  {
   "cell_type": "markdown",
   "metadata": {},
   "source": [
    "1.3\n",
    "The dimension and entries are instance attributes. Class attribute is the attribute defined in the class shared by all instances, while the attribute on an instance is unique to that instance. Since we want each Vector object to have its own unique dimension and entries, it is better to make them instance attributes. If multiple Vector objects are defined in one script, the program will be able to distinguish each one of them. "
   ]
  },
  {
   "cell_type": "markdown",
   "metadata": {},
   "source": [
    "### Problem 2: Objects and Classes: Geometry Edition\n",
    "Problem 2 took me 1 hour."
   ]
  },
  {
   "cell_type": "code",
   "execution_count": null,
   "metadata": {},
   "outputs": [],
   "source": [
    "# 2.1\n",
    "class Point:\n",
    "    def __init__(self, x=0.0, y=0.0):\n",
    "        self.x, self.y = float(x), float(y)\n",
    "    \n",
    "    def __repr__(self):\n",
    "        return \"(%s,%s)\" % (self.x, self.y)\n",
    "      \n",
    "    # 2.2\n",
    "    def __eq__(self, other):\n",
    "        return (self.x,self.y)==(other.x,other.y)\n",
    "    def __ne__(self, other):\n",
    "        return (self.x,self.y)!=(other.x,other.y)\n",
    "    def __lt__(self, other):\n",
    "        return (self.x,self.y)<(other.x,other.y)\n",
    "    def __le__(self, other):\n",
    "        return (self.x,self.y)<=(other.x,other.y)\n",
    "    def __gt__(self, other):\n",
    "        return other < self\n",
    "    def __ge__(self, other):\n",
    "        return other <= self\n",
    "    \n",
    "    # 2.3\n",
    "    def __add__(self, other):\n",
    "        if isinstance(other,Point):\n",
    "            return Point(self.x+other.x, self.y+other.y)\n",
    "        else: \n",
    "            raise TypeError(\"Add method only support Point class obejct.\")"
   ]
  },
  {
   "cell_type": "code",
   "execution_count": null,
   "metadata": {},
   "outputs": [],
   "source": [
    "# 2.4\n",
    "class Line:\n",
    "    def __init__(self, slope=0.0, intercept=0.0):\n",
    "        self.a = float(slope)\n",
    "        self.b = float(intercept)\n",
    "    \n",
    "    def __repr__(self):\n",
    "        if self.a == 0:\n",
    "            return \"y = %s\" % self.b\n",
    "        elif self.a == float('inf'):\n",
    "            raise ValueError(\"The slope of the line has to be less than infinity.\")\n",
    "        else:\n",
    "            return \"y = %sx + %s\" % (self.a, self.b)\n",
    "    \n",
    "    # 2.5\n",
    "    def project(self, point):\n",
    "        p = Point()\n",
    "        if self.a == 0:\n",
    "            p.x = point.x\n",
    "            p.y = self.b\n",
    "        else:\n",
    "            p.x = (point.x+self.a*point.y-self.a*self.b) / (self.a**2+1)\n",
    "            p.y = p.x*self.a + self.b\n",
    "        return p"
   ]
  },
  {
   "cell_type": "markdown",
   "metadata": {},
   "source": [
    "### Problem 3: Objects and Inheritance\n",
    "Problem 3 took me 1 hour."
   ]
  },
  {
   "cell_type": "code",
   "execution_count": 2,
   "metadata": {},
   "outputs": [],
   "source": [
    "# 3.1\n",
    "class Author:\n",
    "    next_id = 0\n",
    "    def __init__(self, given_name=None, family_name=None):\n",
    "        Author.next_id += 1\n",
    "        self.author_id = Author.next_id\n",
    "        self.given_name = str(given_name)\n",
    "        self.family_name = str(family_name)\n",
    "    \n",
    "    def __repr__(self):\n",
    "        return (\"%d. %s %s\" % (self.author_id, self.given_name, self.family_name))\n",
    "    \n",
    "    # 3.2\n",
    "    def __str__(self):\n",
    "        return ('%s, %s.' % (self.family_name, self.given_name[0]))\n",
    "        "
   ]
  },
  {
   "cell_type": "code",
   "execution_count": 3,
   "metadata": {},
   "outputs": [],
   "source": [
    "# 3.3\n",
    "class Document:\n",
    "    def __init__(self, author=[], title=None, year=None):\n",
    "        if all([isinstance(i,Author) for i in author]):\n",
    "            self.author = author\n",
    "            self.title = title\n",
    "            self.year = year\n",
    "    \n",
    "    # 3.4\n",
    "    def __str__(self):\n",
    "        if any([self.author==list(), self.title==None, self.year==None]):\n",
    "            raise ValueError(\"Missing arguments.\")\n",
    "        else:\n",
    "            name_str = str(self.author[0])\n",
    "            for i in range(1,len(self.author)):\n",
    "                name_str =  name_str + ' and ' + str(self.author[i])\n",
    "            return ('%s (%s). %s.' % (name_str, self.year, self.title))"
   ]
  },
  {
   "cell_type": "code",
   "execution_count": 4,
   "metadata": {},
   "outputs": [],
   "source": [
    "# 3.5\n",
    "class Book(Document):\n",
    "    def __init__(self, author=[], title=None, year=None, publisher=None):\n",
    "        if all([isinstance(i,Author) for i in author]):\n",
    "            self.author = author\n",
    "            self.title = title\n",
    "            self.year = year\n",
    "            self.publisher = publisher\n",
    "            \n",
    "    def __str__(self):\n",
    "        if any([self.author==list(), self.title==None, self.year==None, self.publisher==None]):\n",
    "            raise ValueError(\"Missing arguments.\")\n",
    "        else:\n",
    "            name_str = str(self.author[0])\n",
    "            for i in range(1,len(self.author)):\n",
    "                name_str =  name_str + ' and ' + str(self.author[i])\n",
    "            return ('%s (%s). %s. %s.' % (name_str, self.year, self.title, self.publisher))"
   ]
  }
 ],
 "metadata": {
  "kernelspec": {
   "display_name": "Python 3",
   "language": "python",
   "name": "python3"
  },
  "language_info": {
   "codemirror_mode": {
    "name": "ipython",
    "version": 3
   },
   "file_extension": ".py",
   "mimetype": "text/x-python",
   "name": "python",
   "nbconvert_exporter": "python",
   "pygments_lexer": "ipython3",
   "version": "3.6.4"
  }
 },
 "nbformat": 4,
 "nbformat_minor": 2
}
