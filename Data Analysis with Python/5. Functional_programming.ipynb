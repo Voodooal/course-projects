{
 "cells": [
  {
   "cell_type": "markdown",
   "metadata": {},
   "source": [
    "# Stats701 Homework 5, Winter 2018\n",
    "### Mengyi Yuan\n",
    "#### wendymy@umich.edu"
   ]
  },
  {
   "cell_type": "markdown",
   "metadata": {},
   "source": [
    "### Problem 1: Iterators and Generators\n",
    "Problem 1 took me 30 minutes."
   ]
  },
  {
   "cell_type": "code",
   "execution_count": null,
   "metadata": {},
   "outputs": [],
   "source": [
    "# 1.1\n",
    "class Fibo:\n",
    "    def __init__(self):\n",
    "        self.n = 0\n",
    "        self.k = 1\n",
    "    def __next__(self):\n",
    "        (self.n, self.k) = (self.n+self.k, self.n)\n",
    "        return(self.k)\n",
    "    def __iter__(self):\n",
    "        return(self)"
   ]
  },
  {
   "cell_type": "code",
   "execution_count": 8,
   "metadata": {},
   "outputs": [],
   "source": [
    "# 1.2\n",
    "def integers():\n",
    "    (m,n) = (0,0)\n",
    "    while True:\n",
    "        (m,n) = (n,n+1)\n",
    "        yield m"
   ]
  },
  {
   "cell_type": "code",
   "execution_count": 1,
   "metadata": {},
   "outputs": [],
   "source": [
    "# 1.3\n",
    "def primes():\n",
    "    (m,n) = (2,2)\n",
    "    while True:\n",
    "        (m,n) = (n,n+1)\n",
    "        if all(m % i != 0 for i in range(2,int(m**0.5)+1)):\n",
    "            yield m"
   ]
  },
  {
   "cell_type": "markdown",
   "metadata": {},
   "source": [
    "### Problem 2: List Comprehensions and Generator Expressions\n",
    "Problem 2 took me 45 minutes."
   ]
  },
  {
   "cell_type": "code",
   "execution_count": null,
   "metadata": {},
   "outputs": [],
   "source": [
    "# 2.1\n",
    "a = [i**2 for i in range(1,21) if i % 2 != 0]"
   ]
  },
  {
   "cell_type": "code",
   "execution_count": null,
   "metadata": {},
   "outputs": [],
   "source": [
    "# 2.2\n",
    "import itertools\n",
    "b = (x for x in itertools.count(1) if int(round(x**(1./3)))**3 == abs(x))"
   ]
  },
  {
   "cell_type": "code",
   "execution_count": 9,
   "metadata": {},
   "outputs": [],
   "source": [
    "# 2.3\n",
    "import math as m\n",
    "tetrahedral = (m.factorial(x+2)/(m.factorial(3)*m.factorial(x-1)) for x in integers() if x >= 1)"
   ]
  },
  {
   "cell_type": "markdown",
   "metadata": {},
   "source": [
    "### Problem 3: Map, Filter and Reduce\n",
    "Problem 3 took me 45 minutes."
   ]
  },
  {
   "cell_type": "code",
   "execution_count": 3,
   "metadata": {},
   "outputs": [
    {
     "data": {
      "text/plain": [
       "1330"
      ]
     },
     "execution_count": 3,
     "metadata": {},
     "output_type": "execute_result"
    }
   ],
   "source": [
    "# 3.1\n",
    "import functools\n",
    "functools.reduce(lambda x,y:x+y, [i**2 for i in range(1,21) if i % 2 != 0])"
   ]
  },
  {
   "cell_type": "code",
   "execution_count": 4,
   "metadata": {},
   "outputs": [
    {
     "data": {
      "text/plain": [
       "1922760350154212639070"
      ]
     },
     "execution_count": 4,
     "metadata": {},
     "output_type": "execute_result"
    }
   ],
   "source": [
    "# 3.2\n",
    "p = primes()\n",
    "functools.reduce(lambda x,y:x*y, [next(p) for _ in range(17)])"
   ]
  },
  {
   "cell_type": "code",
   "execution_count": 5,
   "metadata": {},
   "outputs": [
    {
     "data": {
      "text/plain": [
       "[1.0,\n",
       " 1.5,\n",
       " 1.8333333333333333,\n",
       " 2.083333333333333,\n",
       " 2.283333333333333,\n",
       " 2.4499999999999997,\n",
       " 2.5928571428571425,\n",
       " 2.7178571428571425,\n",
       " 2.8289682539682537,\n",
       " 2.9289682539682538]"
      ]
     },
     "execution_count": 5,
     "metadata": {},
     "output_type": "execute_result"
    }
   ],
   "source": [
    "# 3.3\n",
    "[functools.reduce(lambda x,y: x+y, list(map(lambda x: 1.0/x, range(1,i+1)))) for i in range(1,11)]"
   ]
  },
  {
   "cell_type": "code",
   "execution_count": 10,
   "metadata": {},
   "outputs": [
    {
     "data": {
      "text/plain": [
       "29.91378180628326"
      ]
     },
     "execution_count": 10,
     "metadata": {},
     "output_type": "execute_result"
    }
   ],
   "source": [
    "# 3.4\n",
    "functools.reduce(lambda x,y:x*y, [next(tetrahedral) for _ in range(10)]) ** 0.1"
   ]
  },
  {
   "cell_type": "markdown",
   "metadata": {},
   "source": [
    "### Problem 4: Fun with Polynomials\n",
    "Problem 4 took me 1 hour."
   ]
  },
  {
   "cell_type": "code",
   "execution_count": 11,
   "metadata": {},
   "outputs": [],
   "source": [
    "# 4.1\n",
    "def eval_poly(x, coeffs):\n",
    "    return functools.reduce(lambda x,y: x+y, list(map(lambda i: coeffs[i]*(x**i),range(len(coeffs)))))"
   ]
  },
  {
   "cell_type": "code",
   "execution_count": null,
   "metadata": {},
   "outputs": [],
   "source": [
    "# 4.2\n",
    "import itertools\n",
    "def make_poly(coeffs):\n",
    "    def p(x):\n",
    "        return sum(list(itertools.starmap(lambda i,j:i*(x**j),[(coeffs[i], i) for i in range(len(coeffs))])))\n",
    "    return p "
   ]
  }
 ],
 "metadata": {
  "kernelspec": {
   "display_name": "Python 3",
   "language": "python",
   "name": "python3"
  },
  "language_info": {
   "codemirror_mode": {
    "name": "ipython",
    "version": 3
   },
   "file_extension": ".py",
   "mimetype": "text/x-python",
   "name": "python",
   "nbconvert_exporter": "python",
   "pygments_lexer": "ipython3",
   "version": "3.6.4"
  }
 },
 "nbformat": 4,
 "nbformat_minor": 2
}
