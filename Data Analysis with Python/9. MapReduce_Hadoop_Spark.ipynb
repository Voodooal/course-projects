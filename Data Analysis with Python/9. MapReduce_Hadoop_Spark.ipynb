{
 "cells": [
  {
   "cell_type": "markdown",
   "metadata": {},
   "source": [
    "# Stats701 Homework 9, Winter 2018\n",
    "### Mengyi Yuan\n",
    "#### wendymy@umich.edu"
   ]
  },
  {
   "cell_type": "markdown",
   "metadata": {},
   "source": [
    "### Problem 1: Warmup: counting words with mrjob\n",
    "Problem 1 took me 1.5 hours."
   ]
  },
  {
   "cell_type": "code",
   "execution_count": null,
   "metadata": {},
   "outputs": [],
   "source": [
    "# 1.1\n",
    "\n",
    "### python script HW9Q1a.py\n",
    "\n",
    "from mrjob.job import MRJob\n",
    "import re\n",
    "\n",
    "WORD_RE = re.compile(r\"[\\w']+\")\n",
    "\n",
    "class MRWordFrequencyCount(MRJob):\n",
    "    def mapper(self, _, line):\n",
    "        for word in WORD_RE.findall(line):\n",
    "            yield (word.lower(), 1)\n",
    "\n",
    "    def combiner(self, word, counts):\n",
    "        yield (word, sum(counts))\n",
    "\n",
    "    def reducer(self, word, counts):\n",
    "        yield (word, sum(counts))\n",
    "\n",
    "if __name__ == \"__main__\":\n",
    "    MRWordFrequencyCount.run()"
   ]
  },
  {
   "cell_type": "raw",
   "metadata": {},
   "source": [
    "# 1.2\n",
    "\n",
    "### I ran the script on simple.txt locally. So I used python3 command. \n",
    "\n",
    "python3 HW9Q1a.py simple.txt > simple_word_counts.txt"
   ]
  },
  {
   "cell_type": "raw",
   "metadata": {},
   "source": [
    "### simple_word_counts.txt\n",
    "\"and\"\t3\n",
    "\"cats\"\t3\n",
    "\"cheese\"\t1\n",
    "\"dogs\"\t2\n",
    "\"eat\"\t2\n",
    "\"fleas\"\t1\n",
    "\"have\"\t1\n",
    "\"raining\"\t1\n",
    "\"rats\"\t3"
   ]
  },
  {
   "cell_type": "raw",
   "metadata": {},
   "source": [
    "# 1.3\n",
    "\n",
    "### run on hadoop\n",
    "### I used FileZilla to upload and download files to and from flux, so I won't include the scp command in following assignments. \n",
    "\n",
    "python HW9Q1a.py -r hadoop hdfs:///var/stat701w18/moby_dick.txt > word_counts.txt"
   ]
  },
  {
   "cell_type": "code",
   "execution_count": 5,
   "metadata": {},
   "outputs": [],
   "source": [
    "# 1.4\n",
    "import matplotlib.pyplot as plt\n",
    "from math import log\n",
    "%matplotlib inline"
   ]
  },
  {
   "cell_type": "code",
   "execution_count": 3,
   "metadata": {},
   "outputs": [
    {
     "data": {
      "image/png": "[encoded data removed]",
      "text/plain": [
       "<matplotlib.figure.Figure at 0x107ad27b8>"
      ]
     },
     "metadata": {},
     "output_type": "display_data"
    }
   ],
   "source": [
    "count_lst = []\n",
    "with open('word_counts.txt') as f:\n",
    "    for line in f:\n",
    "        pair = line.split()\n",
    "        count_lst.append((int(pair[1]),pair[0]))\n",
    "f.close()\n",
    "\n",
    "sorted_lst = sorted(count_lst)\n",
    "rank_lst = list(range(len(sorted_lst), 0, -1))\n",
    "x = [log(i) for i in rank_lst]\n",
    "y = [log(j[0]) for j in sorted_lst]\n",
    "plt.plot(x,y)\n",
    "plt.xlabel(\"log rank of word frequency\")\n",
    "plt.ylabel(\"log word frequency\")\n",
    "plt.title(\"Plot of work frequency against word rank on a log-log scale\")\n",
    "plt.show()"
   ]
  },
  {
   "cell_type": "markdown",
   "metadata": {},
   "source": [
    "1.5\n",
    "\n",
    "The plot looks approximately like a line, especially in the middle part of the plot. "
   ]
  },
  {
   "cell_type": "markdown",
   "metadata": {},
   "source": [
    "### Problem 2: Computing Sample Statistics with mrjob\n",
    "Problem 2 took me 1.5 hours."
   ]
  },
  {
   "cell_type": "code",
   "execution_count": null,
   "metadata": {},
   "outputs": [],
   "source": [
    "# 2.1\n",
    "\n",
    "### mr_summary_stats.py\n",
    "\n",
    "from mrjob.job import MRJob\n",
    "import functools\n",
    "\n",
    "class MRSummaryStats(MRJob):\n",
    "    \n",
    "    def mapper(self, _, line):\n",
    "        label_value = line.split()\n",
    "        yield (int(label_value[0]), [float(label_value[1]), float(label_value[1])**2, 1])\n",
    "\n",
    "    def reducer(self, label, value_lst):\n",
    "        summary_stats = functools.reduce(lambda x,y: [x[0]+y[0],x[1]+y[1],x[2]+y[2]], value_lst)\n",
    "        yield (label, [summary_stats[2], summary_stats[0]/summary_stats[2],\n",
    "                       summary_stats[1]/summary_stats[2]-(summary_stats[0]/summary_stats[2])**2])\n",
    "\n",
    "\n",
    "if __name__ == \"__main__\":\n",
    "    MRSummaryStats.run()"
   ]
  },
  {
   "cell_type": "raw",
   "metadata": {},
   "source": [
    "# 2.2\n",
    "\n",
    "# run python script locally\n",
    "\n",
    "python3 mr_summary_stats.py populations_small.txt > summary_small.txt"
   ]
  },
  {
   "cell_type": "raw",
   "metadata": {},
   "source": [
    "### summary_small.txt\n",
    "\n",
    "0\t[3, 0.0, 2.6666666666666665]\n",
    "1\t[4, 10.0, 0.0]\n",
    "2\t[5, 5.0, 8.0]"
   ]
  },
  {
   "cell_type": "raw",
   "metadata": {},
   "source": [
    "# 2.3\n",
    "\n",
    "# run python script on hadoop\n",
    "\n",
    "python mr_summary_stats.py -r hadoop hdfs:///var/stat701w18/populations_large.txt > summary_large.txt"
   ]
  },
  {
   "cell_type": "raw",
   "metadata": {},
   "source": [
    "### summary_large.txt\n",
    "\n",
    "0\t[834237, 11.562434283892557, 87499013.8387025]\n",
    "1\t[833777, 22.067051460814614, 92621488.47560832]\n",
    "10\t[834949, -2.8455360916440164, 105563887.98123512]\n",
    "11\t[832304, 34.5728640569971, 79515773.7313861]\n",
    "2\t[832451, -14.857210333720584, 87338145.96809214]\n",
    "3\t[832676, -19.11766927764743, 81581436.87580727]\n",
    "4\t[833149, 15.099974508256016, 92922667.45568337]\n",
    "5\t[831961, -6.847776079634745, 105528024.59797779]\n",
    "6\t[833335, 3.556395959278101, 61423963.19379812]\n",
    "7\t[834354, 4.798076383114637, 85288463.9603821]\n",
    "8\t[833649, 15.778497492611915, 86666981.67259522]\n",
    "9\t[833158, 8.631111917292886, 72319972.96810105]"
   ]
  },
  {
   "cell_type": "code",
   "execution_count": 11,
   "metadata": {},
   "outputs": [
    {
     "data": {
      "text/plain": [
       "[[0.0, 834237.0, 11.562434283892557, 87499013.8387025],\n",
       " [1.0, 833777.0, 22.067051460814614, 92621488.47560832],\n",
       " [10.0, 834949.0, 2.8455360916440164, 105563887.98123512],\n",
       " [11.0, 832304.0, 34.5728640569971, 79515773.7313861],\n",
       " [2.0, 832451.0, 14.857210333720584, 87338145.96809214],\n",
       " [3.0, 832676.0, 19.11766927764743, 81581436.87580727],\n",
       " [4.0, 833149.0, 15.099974508256016, 92922667.45568337],\n",
       " [5.0, 831961.0, 6.847776079634745, 105528024.59797779],\n",
       " [6.0, 833335.0, 3.556395959278101, 61423963.19379812],\n",
       " [7.0, 834354.0, 4.798076383114637, 85288463.9603821],\n",
       " [8.0, 833649.0, 15.778497492611915, 86666981.67259522],\n",
       " [9.0, 833158.0, 8.631111917292886, 72319972.96810105]]"
      ]
     },
     "execution_count": 11,
     "metadata": {},
     "output_type": "execute_result"
    }
   ],
   "source": [
    "stats_lst"
   ]
  },
  {
   "cell_type": "code",
   "execution_count": 13,
   "metadata": {},
   "outputs": [
    {
     "data": {
      "image/png": "[encoded data removed]",
      "text/plain": [
       "<matplotlib.figure.Figure at 0x10a645a20>"
      ]
     },
     "metadata": {},
     "output_type": "display_data"
    }
   ],
   "source": [
    "# 2.4\n",
    "from scipy.stats import norm\n",
    "import re\n",
    "\n",
    "z_alpha = norm.ppf(0.975)\n",
    "stats_lst = []\n",
    "with open('summary_large.txt') as f:\n",
    "    for line in f:\n",
    "        values = [float(i) for i in re.findall(\"[-0-9\\.]+\", line)]\n",
    "        stats_lst.append(values)\n",
    "f.close()\n",
    "\n",
    "x = [int(i[0]) for i in stats_lst]\n",
    "mean = [i[2] for i in stats_lst]\n",
    "margin_of_error = [z_alpha*(i[3]/i[1])**0.5 for i in stats_lst]\n",
    "\n",
    "plt.errorbar(x, mean, yerr = margin_of_error, fmt=\"o\")\n",
    "plt.title(\"95% confidence interval for the sample mean\")\n",
    "plt.show()"
   ]
  },
  {
   "cell_type": "markdown",
   "metadata": {},
   "source": [
    "### Problem 3: Graph Processing: Counting Triangles with PySpark\n",
    "Problem 3 took me 3 hours."
   ]
  },
  {
   "cell_type": "code",
   "execution_count": null,
   "metadata": {},
   "outputs": [],
   "source": [
    "# 3.1\n",
    "\n",
    "### HW9Q3.py\n",
    "\n",
    "from pyspark import SparkConf, SparkContext\n",
    "import sys\n",
    "\n",
    "# This script takes two arguments, an input and output\n",
    "if len(sys.argv) != 3:\n",
    "    print('Usage: ' + sys.argv[0] + ' <in><out>')\n",
    "    sys.exit(1)\n",
    "    \n",
    "inputlocation = sys.argv[1]\n",
    "outputlocation = sys.argv[2]\n",
    "\n",
    "# Set up the configuration and job context\n",
    "conf = SparkConf().setAppName('Summation')\n",
    "sc = SparkContext(conf=conf)\n",
    "\n",
    "# Read in the dataset and immediately transform all the lines in array\n",
    "data = sc.textFile(inputlocation).map(lambda line: line.split())\n",
    "data = data.map(lambda x: [int(i) for i in x])\n",
    "data = data.flatMap(lambda x: [sorted((x[0],x[i],x[j])) for i in range(1, len(x)) for j in range(1, len(x)) if i < j])\n",
    "\n",
    "data = data.map(lambda x: (tuple(x),1))\n",
    "data_count = data.reduceByKey(lambda x,y: x+y)\n",
    "data_final = data_count.filter(lambda x: x[1]>=2).keys()\n",
    "\n",
    "# Save the results in the specified output directory\n",
    "data_final.saveAsTextFile(outputlocation)\n",
    "sc.stop()"
   ]
  },
  {
   "cell_type": "raw",
   "metadata": {},
   "source": [
    "# 3.2\n",
    "\n",
    "# run the script on simple friends lists \n",
    "\n",
    "spark-submit --master yarn --queue teaching HW9Q3.py /var/stat701w18/fof/friends.simple small_triangle_list\n",
    "\n",
    "hdfs dfs -ls small_triangle_list/\n",
    "\n",
    "# download the output to hadoop\n",
    "hdfs dfs -cat small_triangle_list/* > small_triangle_list.txt"
   ]
  },
  {
   "cell_type": "raw",
   "metadata": {},
   "source": [
    "### small_triangle_list.txt\n",
    "\n",
    "(100, 200, 217)\n",
    "(300, 400, 500)\n",
    "(100, 200, 300)\n",
    "(100, 200, 400)\n",
    "(200, 300, 400)\n",
    "(100, 300, 400)"
   ]
  },
  {
   "cell_type": "markdown",
   "metadata": {},
   "source": [
    "There are 6 triangles in the list."
   ]
  },
  {
   "cell_type": "raw",
   "metadata": {},
   "source": [
    "# 3.3\n",
    "spark-submit --master yarn --queue teaching HW9Q3.py /var/stat701w18/fof/friends1000 friends1000\n",
    "\n",
    "hdfs dfs -ls friends1000/\n",
    "\n",
    "hdfs dfs -cat friends1000/* > big_triangle_list.txt"
   ]
  }
 ],
 "metadata": {
  "kernelspec": {
   "display_name": "Python 3",
   "language": "python",
   "name": "python3"
  },
  "language_info": {
   "codemirror_mode": {
    "name": "ipython",
    "version": 3
   },
   "file_extension": ".py",
   "mimetype": "text/x-python",
   "name": "python",
   "nbconvert_exporter": "python",
   "pygments_lexer": "ipython3",
   "version": "3.6.4"
  }
 },
 "nbformat": 4,
 "nbformat_minor": 2
}
